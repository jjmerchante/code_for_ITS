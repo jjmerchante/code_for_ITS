{
 "cells": [
  {
   "cell_type": "code",
   "execution_count": 1,
   "metadata": {
    "collapsed": true
   },
   "outputs": [],
   "source": [
    "import pandas as pd\n",
    "import matplotlib.pyplot as plt\n",
    "import datetime\n",
    "import os"
   ]
  },
  {
   "cell_type": "code",
   "execution_count": 2,
   "metadata": {
    "collapsed": true
   },
   "outputs": [],
   "source": [
    "plt.rc('figure', figsize=(12, 8))"
   ]
  },
  {
   "cell_type": "markdown",
   "metadata": {},
   "source": [
    "## Read global data"
   ]
  },
  {
   "cell_type": "code",
   "execution_count": 7,
   "metadata": {
    "collapsed": true
   },
   "outputs": [],
   "source": [
    "occ = pd.read_table(\"/home/josejm/transportes/ITS_Primero/N. Aquatic Park_downstream_PM_5.25/occ/global_occ.txt\", header=None)\n",
    "occ.columns=['date', 'L1_flow', 'L1_occ', 'L2_flow', 'L2_occ','L3_flow', 'L3_occ','L4_flow', 'L4_occ', 'L5_flow', 'L5_occ', 'flow', 'occ', 'lanes', 'observed']\n",
    "occ.date = pd.to_datetime(occ.date)"
   ]
  },
  {
   "cell_type": "code",
   "execution_count": 8,
   "metadata": {},
   "outputs": [
    {
     "data": {
      "text/html": [
       "<div>\n",
       "<style>\n",
       "    .dataframe thead tr:only-child th {\n",
       "        text-align: right;\n",
       "    }\n",
       "\n",
       "    .dataframe thead th {\n",
       "        text-align: left;\n",
       "    }\n",
       "\n",
       "    .dataframe tbody tr th {\n",
       "        vertical-align: top;\n",
       "    }\n",
       "</style>\n",
       "<table border=\"1\" class=\"dataframe\">\n",
       "  <thead>\n",
       "    <tr style=\"text-align: right;\">\n",
       "      <th></th>\n",
       "      <th>date</th>\n",
       "      <th>L1_flow</th>\n",
       "      <th>L1_occ</th>\n",
       "      <th>L2_flow</th>\n",
       "      <th>L2_occ</th>\n",
       "      <th>L3_flow</th>\n",
       "      <th>L3_occ</th>\n",
       "      <th>L4_flow</th>\n",
       "      <th>L4_occ</th>\n",
       "      <th>L5_flow</th>\n",
       "      <th>L5_occ</th>\n",
       "      <th>flow</th>\n",
       "      <th>occ</th>\n",
       "      <th>lanes</th>\n",
       "      <th>observed</th>\n",
       "    </tr>\n",
       "  </thead>\n",
       "  <tbody>\n",
       "    <tr>\n",
       "      <th>0</th>\n",
       "      <td>2006-10-22 00:00:00</td>\n",
       "      <td>17.0</td>\n",
       "      <td>2.1</td>\n",
       "      <td>23.0</td>\n",
       "      <td>2.7</td>\n",
       "      <td>24.0</td>\n",
       "      <td>3.3</td>\n",
       "      <td>22.0</td>\n",
       "      <td>3.1</td>\n",
       "      <td>17.0</td>\n",
       "      <td>2.6</td>\n",
       "      <td>103.0</td>\n",
       "      <td>2.8</td>\n",
       "      <td>5</td>\n",
       "      <td>100.0</td>\n",
       "    </tr>\n",
       "    <tr>\n",
       "      <th>1</th>\n",
       "      <td>2006-10-22 00:05:00</td>\n",
       "      <td>12.0</td>\n",
       "      <td>1.5</td>\n",
       "      <td>22.0</td>\n",
       "      <td>2.7</td>\n",
       "      <td>25.0</td>\n",
       "      <td>3.3</td>\n",
       "      <td>25.0</td>\n",
       "      <td>3.3</td>\n",
       "      <td>23.0</td>\n",
       "      <td>3.2</td>\n",
       "      <td>107.0</td>\n",
       "      <td>2.8</td>\n",
       "      <td>5</td>\n",
       "      <td>100.0</td>\n",
       "    </tr>\n",
       "    <tr>\n",
       "      <th>2</th>\n",
       "      <td>2006-10-22 00:10:00</td>\n",
       "      <td>12.0</td>\n",
       "      <td>1.5</td>\n",
       "      <td>25.0</td>\n",
       "      <td>3.3</td>\n",
       "      <td>25.0</td>\n",
       "      <td>3.3</td>\n",
       "      <td>23.0</td>\n",
       "      <td>3.0</td>\n",
       "      <td>17.0</td>\n",
       "      <td>2.7</td>\n",
       "      <td>102.0</td>\n",
       "      <td>2.8</td>\n",
       "      <td>5</td>\n",
       "      <td>100.0</td>\n",
       "    </tr>\n",
       "    <tr>\n",
       "      <th>3</th>\n",
       "      <td>2006-10-22 00:15:00</td>\n",
       "      <td>15.0</td>\n",
       "      <td>1.9</td>\n",
       "      <td>22.0</td>\n",
       "      <td>2.7</td>\n",
       "      <td>25.0</td>\n",
       "      <td>3.3</td>\n",
       "      <td>25.0</td>\n",
       "      <td>3.8</td>\n",
       "      <td>25.0</td>\n",
       "      <td>3.8</td>\n",
       "      <td>112.0</td>\n",
       "      <td>3.1</td>\n",
       "      <td>5</td>\n",
       "      <td>100.0</td>\n",
       "    </tr>\n",
       "    <tr>\n",
       "      <th>4</th>\n",
       "      <td>2006-10-22 00:20:00</td>\n",
       "      <td>14.0</td>\n",
       "      <td>1.7</td>\n",
       "      <td>23.0</td>\n",
       "      <td>2.9</td>\n",
       "      <td>21.0</td>\n",
       "      <td>2.8</td>\n",
       "      <td>25.0</td>\n",
       "      <td>4.1</td>\n",
       "      <td>21.0</td>\n",
       "      <td>3.3</td>\n",
       "      <td>104.0</td>\n",
       "      <td>3.0</td>\n",
       "      <td>5</td>\n",
       "      <td>100.0</td>\n",
       "    </tr>\n",
       "  </tbody>\n",
       "</table>\n",
       "</div>"
      ],
      "text/plain": [
       "                 date  L1_flow  L1_occ  L2_flow  L2_occ  L3_flow  L3_occ  \\\n",
       "0 2006-10-22 00:00:00     17.0     2.1     23.0     2.7     24.0     3.3   \n",
       "1 2006-10-22 00:05:00     12.0     1.5     22.0     2.7     25.0     3.3   \n",
       "2 2006-10-22 00:10:00     12.0     1.5     25.0     3.3     25.0     3.3   \n",
       "3 2006-10-22 00:15:00     15.0     1.9     22.0     2.7     25.0     3.3   \n",
       "4 2006-10-22 00:20:00     14.0     1.7     23.0     2.9     21.0     2.8   \n",
       "\n",
       "   L4_flow  L4_occ  L5_flow  L5_occ   flow  occ  lanes  observed  \n",
       "0     22.0     3.1     17.0     2.6  103.0  2.8      5     100.0  \n",
       "1     25.0     3.3     23.0     3.2  107.0  2.8      5     100.0  \n",
       "2     23.0     3.0     17.0     2.7  102.0  2.8      5     100.0  \n",
       "3     25.0     3.8     25.0     3.8  112.0  3.1      5     100.0  \n",
       "4     25.0     4.1     21.0     3.3  104.0  3.0      5     100.0  "
      ]
     },
     "execution_count": 8,
     "metadata": {},
     "output_type": "execute_result"
    }
   ],
   "source": [
    "occ.head()"
   ]
  },
  {
   "cell_type": "code",
   "execution_count": 11,
   "metadata": {},
   "outputs": [
    {
     "data": {
      "text/plain": [
       "['pems.dot.ca.gov50.txt',\n",
       " 'pems.dot.ca.gov53.txt',\n",
       " 'pems.dot.ca.gov52.txt',\n",
       " 'pems.dot.ca.gov51.txt',\n",
       " 'pems.dot.ca.gov54.txt']"
      ]
     },
     "execution_count": 11,
     "metadata": {},
     "output_type": "execute_result"
    }
   ],
   "source": [
    "# Watch a directory contents\n",
    "import os\n",
    "os.listdir('December')"
   ]
  },
  {
   "cell_type": "markdown",
   "metadata": {},
   "source": [
    "## Read December-January data"
   ]
  },
  {
   "cell_type": "code",
   "execution_count": null,
   "metadata": {
    "collapsed": true
   },
   "outputs": [],
   "source": [
    "for week_dec in os.listdir('December')\n",
    "dec1 = pd.read_table(\"/home/josejm/transportes/ITS_Primero/N. Aquatic Park_downstream_PM_5.25/occ/global_occ.txt\", header=None)\n",
    "\n",
    "chrism = "
   ]
  }
 ],
 "metadata": {
  "kernelspec": {
   "display_name": "Python 3",
   "language": "python",
   "name": "python3"
  },
  "language_info": {
   "codemirror_mode": {
    "name": "ipython",
    "version": 3
   },
   "file_extension": ".py",
   "mimetype": "text/x-python",
   "name": "python",
   "nbconvert_exporter": "python",
   "pygments_lexer": "ipython3",
   "version": "3.6.3"
  }
 },
 "nbformat": 4,
 "nbformat_minor": 2
}
